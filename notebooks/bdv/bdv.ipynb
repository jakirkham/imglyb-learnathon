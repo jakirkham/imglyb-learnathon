{
 "cells": [
  {
   "cell_type": "markdown",
   "metadata": {},
   "source": [
    "# BigDataViewer in imglyb\n",
    "\n",
    "Note that this notebook does not run on OSX! You can copy the contents of the relevant cells into a file and run the file through thw `OSWAWTwrapper`:\n",
    "```bash\n",
    "WRAPPER=\"python -c 'import os; import site; print( os.path.join(site.getsitepackages()[0], \"imglyb\", \"OSXAWTwrapper.py\") )'\"\n",
    "python $WRAPPER /path/to/file\n",
    "```\n",
    "This example uses, in addition to imglyb, the *h5py* and *scikit-image* packages. You can install them through conda:\n",
    "```bash\n",
    "conda install h5py scikit-image\n",
    "```"
   ]
  },
  {
   "cell_type": "code",
   "execution_count": 1,
   "metadata": {
    "collapsed": true
   },
   "outputs": [],
   "source": [
    "import h5py\n",
    "import math\n",
    "import numpy as np\n",
    "import os\n",
    "import pathlib\n",
    "import skimage.io\n",
    "import subprocess\n",
    "import tempfile\n",
    "import timeit\n",
    "import threading\n",
    "import time"
   ]
  },
  {
   "cell_type": "markdown",
   "metadata": {},
   "source": [
    "## imglyb imports\n",
    "An additional *tmp* directory within the classpath will allow us to compile Java code on the fly if we need fast pixel-wise method calls (see example below). "
   ]
  },
  {
   "cell_type": "code",
   "execution_count": 2,
   "metadata": {
    "collapsed": true
   },
   "outputs": [],
   "source": [
    "tmp_dir = tempfile.mkdtemp()\n",
    "\n",
    "import jnius_config\n",
    "jnius_config.add_classpath( tmp_dir )\n",
    "\n",
    "import imglyb\n",
    "import imglyb.util as util\n",
    "\n",
    "from jnius import autoclass, PythonJavaClass, java_method, cast"
   ]
  },
  {
   "cell_type": "markdown",
   "metadata": {},
   "source": [
    "## Wait For BDV\n",
    "Python is not aware of any Java threads and -- if not run in interactive mode -- would exit even with an active BDV window open. The `bdv_exit_check` as defined below keeps a Python thread alive while BDV is running and prevents Python from exiting. This is not necessary for interactive sessions (e.g. IPython shell, notebook) but is still added for the purpose of demonstration."
   ]
  },
  {
   "cell_type": "code",
   "execution_count": 3,
   "metadata": {
    "collapsed": true
   },
   "outputs": [],
   "source": [
    "def bdv_exit_check( viewer, run_on_exit = lambda : print( \"Exited!\" ) ):\n",
    "\n",
    "    check = autoclass( 'net.imglib2.python.BdvWindowClosedCheck' )()\n",
    "    frame = cast( 'javax.swing.JFrame', autoclass( 'javax.swing.SwingUtilities' ).getWindowAncestor( viewer ) )\n",
    "    frame.addWindowListener( check )\n",
    "\n",
    "    def sleeper():\n",
    "        while check.isOpen():\n",
    "            time.sleep( 0.1 )\n",
    "        run_on_exit()\n",
    "\n",
    "    t = threading.Thread( target=sleeper )\n",
    "    t.start()"
   ]
  },
  {
   "cell_type": "markdown",
   "metadata": {},
   "source": [
    "## Multi-Channel vs ARGB"
   ]
  },
  {
   "cell_type": "code",
   "execution_count": 4,
   "metadata": {},
   "outputs": [
    {
     "name": "stdout",
     "output_type": "stream",
     "text": [
      "Exited!\n"
     ]
    }
   ],
   "source": [
    "url = 'http://www.nerdtests.com/mq/testimages/167138_4f49b66c0cb4a87cc906.jpg'\n",
    "# url = '/home/phil/Pictures/10pm.png'\n",
    "arr = skimage.io.imread( url )\n",
    "rai = imglyb.to_imglib( arr )\n",
    "bdv = util.BdvFunctions.show( rai, 'argb' )\n",
    "bdv_exit_check( bdv.getBdvHandle().getViewerPanel() )"
   ]
  },
  {
   "cell_type": "code",
   "execution_count": 5,
   "metadata": {},
   "outputs": [
    {
     "name": "stdout",
     "output_type": "stream",
     "text": [
      "Exited!\n"
     ]
    }
   ],
   "source": [
    "rai = imglyb.to_imglib( np.transpose( arr, ( 2, 0, 1 ) ) )\n",
    "bdv = util.BdvFunctions.show( rai, 'argb', util.BdvOptions.options().is2D() )\n",
    "bdv_exit_check( bdv.getBdvHandle(). getViewerPanel() )"
   ]
  },
  {
   "cell_type": "markdown",
   "metadata": {},
   "source": [
    "## Pure Python Converter"
   ]
  },
  {
   "cell_type": "code",
   "execution_count": 6,
   "metadata": {
    "scrolled": false
   },
   "outputs": [
    {
     "name": "stdout",
     "output_type": "stream",
     "text": [
      "Runtime for converting every pixel: 23.622126049000144\n",
      "Image size: (282, 330, 3)\n"
     ]
    }
   ],
   "source": [
    "ARGBType = autoclass( 'net.imglib2.type.numeric.ARGBType' )\n",
    "\n",
    "class CompositeARGBConverter( PythonJavaClass ):\n",
    "    \n",
    "    __javainterfaces__ = [ 'net.imglib2.converter.Converter' ]\n",
    "    \n",
    "    def __init__( self ):\n",
    "        super( CompositeARGBConverter, self ).__init__()\n",
    "        \n",
    "    @java_method( '(Ljava/lang/Object;Ljava/lang/Object;)V' )\n",
    "    def convert( self, source, target ):\n",
    "        target.set( ARGBType.rgba( \n",
    "            source.get( 0 ).getInteger(), \n",
    "            source.get( 1 ).getInteger(), \n",
    "            source.get( 2 ).getInteger(),\n",
    "            255 ) )\n",
    "        \n",
    "       \n",
    "Converters = autoclass( 'net.imglib2.converter.Converters' )\n",
    "converter = CompositeARGBConverter()\n",
    "composite = util.Views.collapseReal( rai )\n",
    "view = Converters.convert( cast( 'net.imglib2.RandomAccessibleInterval', composite ), converter, ARGBType() )\n",
    "img = autoclass( 'net.imglib2.img.array.ArrayImgs' ).argbs( view.dimension( 0 ), view.dimension( 1 ) )\n",
    "\n",
    "start = timeit.default_timer()\n",
    "util.Helpers.burnIn( view, img )\n",
    "stop = timeit.default_timer()\n",
    "print( 'Runtime for converting every pixel:', stop - start )\n",
    "print( 'Image size:', arr.shape )"
   ]
  },
  {
   "cell_type": "markdown",
   "metadata": {},
   "source": [
    "## Pure Java Converter"
   ]
  },
  {
   "cell_type": "code",
   "execution_count": 7,
   "metadata": {},
   "outputs": [
    {
     "name": "stdout",
     "output_type": "stream",
     "text": [
      "/tmp/tmp_7530k2t\n"
     ]
    }
   ],
   "source": [
    "converter_code = \"\"\"\n",
    "import net.imglib2.converter.Converter;\n",
    "import net.imglib2.type.numeric.ARGBType;\n",
    "import net.imglib2.type.numeric.integer.UnsignedByteType;\n",
    "import net.imglib2.view.composite.Composite;\n",
    "\n",
    "public class CompositeARGBTypeConverter< C extends Composite< UnsignedByteType > > implements Converter< C, ARGBType > {\n",
    "    \n",
    "    public void convert( C source, ARGBType target ) {\n",
    "        target.set( ARGBType.rgba( source.get( 0 ).get(), source.get( 1 ).get(), source.get( 2 ).get(), 255 ) );\n",
    "    }\n",
    "    \n",
    "}\n",
    "\"\"\"\n",
    "\n",
    "fp = pathlib.Path( tmp_dir ) / 'CompositeARGBTypeConverter.java'\n",
    "print( tmp_dir )\n",
    "with open( fp, 'w' ) as f:\n",
    "    f.write( converter_code )\n",
    "\n",
    "javac = pathlib.Path( os.environ[ 'JAVA_HOME' ] ) / 'bin' / 'javac'\n",
    "proc = subprocess.run( \n",
    "    [ javac, '-cp', jnius_config.split_char.join( jnius_config.get_classpath() ), fp ],\n",
    "    stdout=subprocess.PIPE,\n",
    "    stderr=subprocess.PIPE)\n",
    "if proc.returncode != 0:\n",
    "    print ( proc.stderr )"
   ]
  },
  {
   "cell_type": "code",
   "execution_count": 8,
   "metadata": {},
   "outputs": [
    {
     "name": "stdout",
     "output_type": "stream",
     "text": [
      "Runtime for converting every pixel: 0.029570601000159513\n",
      "Image size: (282, 330, 3)\n"
     ]
    }
   ],
   "source": [
    "Converters = autoclass( 'net.imglib2.converter.Converters' )\n",
    "converter = autoclass( 'CompositeARGBTypeConverter' )()\n",
    "composite = util.Views.collapseReal( rai )\n",
    "view = Converters.convert( cast( 'net.imglib2.RandomAccessibleInterval', composite ), converter, ARGBType() )\n",
    "img = autoclass( 'net.imglib2.img.array.ArrayImgs' ).argbs( view.dimension( 0 ), view.dimension( 1 ) )\n",
    "\n",
    "start = timeit.default_timer()\n",
    "util.Helpers.burnIn( view, img )\n",
    "stop = timeit.default_timer()\n",
    "print( 'Runtime for converting every pixel:', stop - start )\n",
    "print( 'Image size:', arr.shape )"
   ]
  },
  {
   "cell_type": "code",
   "execution_count": 9,
   "metadata": {},
   "outputs": [
    {
     "name": "stdout",
     "output_type": "stream",
     "text": [
      "Different exit message!\n"
     ]
    }
   ],
   "source": [
    "bdv = util.BdvFunctions.show( view, 'argb', util.BdvOptions.options().is2D() )\n",
    "bdv_exit_check( bdv.getBdvHandle().getViewerPanel(), lambda : print( 'Different exit message!' ) )"
   ]
  },
  {
   "cell_type": "markdown",
   "metadata": {},
   "source": [
    "## BDV OverlayRenderer\n",
    "`imglyb.util.GenericOverlayRenderer` implements `net.imglib2.ui.OverlayRenderer`. The `GenericOverlayRenderer` constructor accepts two optional arguments, `draw_overlays` and `set_canvas_size`, that implement the respective methods in the `OverlayRenderer` interface. If not specified, these methods will just return without any action. It is also possible to pass stateful functions (see example below)."
   ]
  },
  {
   "cell_type": "code",
   "execution_count": 10,
   "metadata": {
    "collapsed": true
   },
   "outputs": [],
   "source": [
    "# stateless overlay renderer\n",
    "hello_world_color= autoclass( 'java.awt.Color' ).WHITE\n",
    "def hello_world( g ):\n",
    "    g2d = cast( 'java.awt.Graphics2D', g )\n",
    "    g2d.setColor( hello_world_color )\n",
    "    g2d.drawString(\"Hello world!\", 30, 130 )\n",
    "hello_world_overlay = util.GenericOverlayRenderer( hello_world )\n",
    "\n",
    "# stateful overlay renderer with class that holds state\n",
    "class RectangleOverlayRenderer:\n",
    "    def __init__( self ):\n",
    "        self.w = 0\n",
    "        self.h = 0\n",
    "        self.color= autoclass('java.awt.Color').WHITE\n",
    "        self.stroke = autoclass('java.awt.BasicStroke')( 10 )\n",
    "\n",
    "    def draw_overlays( self, g ):\n",
    "        g2d = cast('java.awt.Graphics2D', g)\n",
    "        g2d.setColor( self.color )\n",
    "        g2d.setStroke( self.stroke )\n",
    "        g2d.drawRect( self.w // 2 - self.w // 6, self.h // 2 - self.h // 6, self.w // 3, self.h // 3 )\n",
    "\n",
    "    def set_canvas_size( self, width, height ):\n",
    "        print( \"Setting canvas size\", width, height )\n",
    "        self.w = width\n",
    "        self.h = height\n",
    "    \n",
    "rectangle_state = RectangleOverlayRenderer()\n",
    "rectangle_renderer = util.GenericOverlayRenderer( lambda g : rectangle_state.draw_overlays( g ), lambda w, h : rectangle_state.set_canvas_size( w, h ) )"
   ]
  },
  {
   "cell_type": "markdown",
   "metadata": {},
   "source": [
    "## MouseMotionListener\n",
    "In analogy to `GenericOverlayRenderer`, `imglyb.util.GenericMouseMotionListener` implements `java.awt.event.MouseMotionListener` with functions `mouse_dragged` and `mouse_moved` that implement the according interface methods and can be passed to the `GenericMouseMotionListener` constructor (default to no-op)."
   ]
  },
  {
   "cell_type": "code",
   "execution_count": 11,
   "metadata": {
    "collapsed": true
   },
   "outputs": [],
   "source": [
    "coordinate_printer = util.GenericMouseMotionListener(\n",
    "        lambda e : print( \"mouse dragged\", e.getX(), e.getY() ),\n",
    "        lambda e : print( \"mouse moved\", e.getX(), e.getY() )\n",
    "        )"
   ]
  },
  {
   "cell_type": "code",
   "execution_count": 12,
   "metadata": {},
   "outputs": [
    {
     "name": "stdout",
     "output_type": "stream",
     "text": [
      "Setting canvas size 800 579\n",
      "mouse moved 173 326\n",
      "mouse moved 181 326\n",
      "mouse moved 195 325\n",
      "mouse moved 216 324\n",
      "mouse moved 238 323\n",
      "mouse moved 264 321\n",
      "mouse moved 290 320\n",
      "mouse moved 314 320\n",
      "mouse moved 336 320\n",
      "mouse moved 356 320\n",
      "mouse moved 376 320\n",
      "mouse moved 393 320\n",
      "mouse moved 409 320\n",
      "mouse moved 426 320\n",
      "mouse moved 441 320\n",
      "mouse moved 457 320\n",
      "mouse moved 471 320\n",
      "mouse moved 485 320\n",
      "mouse moved 494 320\n",
      "mouse moved 501 320\n",
      "mouse moved 508 315\n",
      "mouse moved 508 311\n",
      "mouse moved 509 310\n",
      "mouse moved 509 305\n",
      "mouse moved 509 304\n",
      "mouse moved 509 299\n",
      "mouse moved 509 298\n",
      "mouse moved 509 295\n",
      "mouse moved 508 294\n",
      "mouse moved 494 294\n",
      "mouse moved 479 294\n",
      "mouse moved 463 294\n",
      "mouse moved 448 294\n",
      "mouse moved 437 294\n",
      "mouse moved 428 303\n",
      "mouse moved 422 316\n",
      "mouse moved 421 327\n",
      "mouse moved 421 327\n",
      "mouse moved 420 338\n",
      "mouse moved 420 358\n",
      "mouse moved 420 367\n",
      "mouse moved 420 376\n",
      "mouse moved 433 383\n",
      "mouse moved 453 394\n",
      "mouse moved 476 407\n",
      "mouse moved 498 419\n",
      "mouse moved 521 432\n",
      "mouse moved 546 443\n",
      "mouse moved 569 450\n",
      "mouse moved 588 457\n",
      "mouse moved 605 458\n",
      "mouse moved 619 460\n",
      "mouse moved 632 460\n",
      "mouse moved 640 460\n",
      "mouse moved 653 460\n",
      "mouse moved 654 460\n",
      "mouse moved 659 460\n",
      "mouse moved 663 460\n",
      "mouse moved 678 460\n",
      "mouse moved 689 460\n",
      "mouse moved 700 459\n",
      "mouse moved 714 457\n",
      "mouse moved 734 457\n",
      "mouse moved 755 457\n",
      "mouse moved 779 457\n",
      "Setting canvas size 805 586\n",
      "Setting canvas size 827 598\n",
      "Setting canvas size 874 638\n",
      "Setting canvas size 922 669\n",
      "Setting canvas size 950 687\n",
      "Setting canvas size 974 698\n",
      "Setting canvas size 1014 713\n",
      "Setting canvas size 1052 724\n",
      "Setting canvas size 1069 729\n",
      "Setting canvas size 1085 735\n",
      "Setting canvas size 1097 737\n",
      "Setting canvas size 1117 738\n",
      "Setting canvas size 1129 738\n",
      "Setting canvas size 1139 738\n",
      "Setting canvas size 1143 738\n",
      "Setting canvas size 1139 738\n",
      "Setting canvas size 1128 745\n",
      "Setting canvas size 1120 752\n",
      "Setting canvas size 1112 758\n",
      "Setting canvas size 1110 759\n",
      "Setting canvas size 1110 760\n",
      "mouse moved 1100 758\n",
      "mouse moved 1096 757\n",
      "mouse moved 1092 750\n",
      "mouse moved 1087 746\n",
      "mouse moved 1081 740\n",
      "mouse moved 1079 734\n",
      "mouse moved 1073 729\n",
      "mouse moved 1069 724\n",
      "mouse moved 1068 719\n",
      "mouse moved 1066 718\n",
      "mouse moved 1065 717\n",
      "mouse moved 1065 716\n",
      "mouse moved 1065 716\n",
      "mouse moved 1065 714\n",
      "mouse moved 1066 713\n",
      "mouse moved 1085 705\n"
     ]
    }
   ],
   "source": [
    "random = np.random.randint( 2**32, size=(300,200,100), dtype=np.uint32 )\n",
    "bdv = util.BdvFunctions.show( imglyb.to_imglib_argb( random ), 'random' )\n",
    "viewer = bdv.getBdvHandle().getViewerPanel()\n",
    "viewer.getDisplay().addMouseMotionListener( coordinate_printer )\n",
    "viewer.getDisplay().addOverlayRenderer( hello_world_overlay )\n",
    "viewer.getDisplay().addOverlayRenderer( rectangle_renderer )"
   ]
  },
  {
   "cell_type": "code",
   "execution_count": 13,
   "metadata": {
    "scrolled": true
   },
   "outputs": [
    {
     "name": "stdout",
     "output_type": "stream",
     "text": [
      "(300, 200, 100) [100, 200, 300]\n"
     ]
    },
    {
     "name": "stderr",
     "output_type": "stream",
     "text": [
      "/home/phil/.conda/envs/imglyb/lib/python3.6/site-packages/ipykernel_launcher.py:40: RuntimeWarning: invalid value encountered in true_divide\n"
     ]
    },
    {
     "name": "stdout",
     "output_type": "stream",
     "text": [
      "Exited!\n"
     ]
    }
   ],
   "source": [
    "RealPoint = autoclass( 'net.imglib2.RealPoint' )\n",
    "\n",
    "class Painter( PythonJavaClass ):\n",
    "    __javainterfaces__ = ['org/scijava/ui/behaviour/DragBehaviour']\n",
    "\n",
    "\n",
    "    def __init__( self, img, mask, viewer, paint_listener = lambda : None ):\n",
    "        super( Painter, self ).__init__()\n",
    "        self.img = img\n",
    "        self.mask = mask\n",
    "        self.radius = int( mask.shape[0] / 2 )\n",
    "        self.viewer = viewer\n",
    "        self.oX = 0\n",
    "        self.oY = 0\n",
    "        self.n_dim = len( img.shape )\n",
    "        self.labelLocation = RealPoint( 3 )\n",
    "        self.lower = np.empty( ( self.n_dim, ), dtype=np.int32 )\n",
    "        self.upper = np.empty( ( self.n_dim, ), dtype=np.int32 )\n",
    "        self.paint_listener = paint_listener\n",
    "\n",
    "    @java_method('(II)V')\n",
    "    def init( self, x, y ):\n",
    "        self._paint( x, y )\n",
    "        self.oX = x\n",
    "        self.oY = y\n",
    "        self.viewer.requestRepaint()\n",
    "\n",
    "    @java_method('(II)V')\n",
    "    def drag( self, x, y ):\n",
    "        self._setCoordinates( self.oX, self.oY )\n",
    "        n_dim = self.labelLocation.numDimensions()\n",
    "        origin = np.array( [ self.labelLocation.getDoublePosition( d ) for d in range( n_dim ) ] )\n",
    "        origin_p = RealPoint( n_dim )\n",
    "        for d, p in enumerate( origin ):\n",
    "            origin_p.setPosition( p, d )\n",
    "        self._setCoordinates( x, y )\n",
    "        target = np.array( [ self.labelLocation.getDoublePosition( d ) for d in range( n_dim ) ] )\n",
    "        diff = target - origin\n",
    "        length = np.linalg.norm( diff )\n",
    "        direction = diff / length\n",
    "        try:\n",
    "            for l in range( 1, math.ceil( length ) ):\n",
    "                for d, dist in enumerate( direction ):\n",
    "                    origin_p.move( dist, d )\n",
    "                self._paint_at_localizable( origin_p )\n",
    "        except Exception as e:\n",
    "            print( e )\n",
    "            raise e\n",
    "\n",
    "        self.oX = x\n",
    "        self.oY = y\n",
    "        self.viewer.requestRepaint()\n",
    "\n",
    "    @java_method('(II)V')\n",
    "    def end( self, x, y ):\n",
    "        self.paint_listener()\n",
    "\n",
    "    def _paint( self, x, y ):\n",
    "        self._setCoordinates( x, y )\n",
    "        self._paint_at_localizable( self.labelLocation )\n",
    "\n",
    "    def _paint_at_localizable( self, labelLocation ):\n",
    "        for d in range( self.n_dim ):\n",
    "            int_pos = int( round( labelLocation.getDoublePosition( d ) ) )\n",
    "            if int_pos < 0 or int_pos >= self.img.shape[ ::-1 ][ d ]:\n",
    "                return\n",
    "            self.lower[ d ] = int_pos - self.radius\n",
    "            self.upper[ d ] = int_pos + self.radius\n",
    "            \n",
    "        self.lower = self.lower[::-1]\n",
    "        self.upper = self.upper[::-1]\n",
    "\n",
    "        img_lower = np.maximum( self.lower, 0 )\n",
    "        img_upper = np.minimum( self.upper, self.img.shape )\n",
    "        \n",
    "        if np.any( img_lower >= img_upper ):\n",
    "            return\n",
    "\n",
    "        mask_lower = np.abs( np.minimum( self.lower, 0 ) ).astype( self.lower.dtype )\n",
    "        mask_upper = np.minimum( mask_lower + ( img_upper - img_lower ), mask_lower + np.array( self.mask.shape ) )\n",
    "        img_selection = tuple( slice(l, u) for l, u in zip( img_lower, img_upper ) )\n",
    "        mask_selection = tuple( slice(l, u) for l, u in zip( mask_lower, mask_upper ) )\n",
    "\n",
    "        # color_channels = tuple( 255 << ( ( idx * 8 ) if np.random.rand() > 0.5 else 0 ) for idx in range( self.n_dim )  )\n",
    "        color_channels = tuple( np.random.randint( 128, 255 ) << ( idx * 8 ) for idx in range( self.n_dim )  )\n",
    "        color = 0\n",
    "        for c in color_channels:\n",
    "            color = color | c\n",
    "        try:\n",
    "            self.img[ img_selection  ][ self.mask[ mask_selection ] ] = color\n",
    "        except Exception as e:\n",
    "            print( \"EXCEPTION\", e )\n",
    "            raise e\n",
    "\n",
    "    def _setCoordinates( self, x, y ):\n",
    "        self.labelLocation.setPosition( x, 0 )\n",
    "        self.labelLocation.setPosition( y, 1 )\n",
    "        self.labelLocation.setPosition( 0, 2 )\n",
    "        self.viewer.displayToGlobalCoordinates( self.labelLocation )\n",
    "\n",
    "initial_img = np.zeros( ( 300, 200, 100 ), dtype=np.uint32 ) + ( 80 | ( 80 << 8 ) )\n",
    "initial_rai = imglyb.to_imglib_argb( initial_img )\n",
    "bdv = util.BdvFunctions.show( initial_rai, 'canvas' )\n",
    "mask = np.ones( ( 10, 10, 10 ) ) == 1\n",
    "painter = Painter( initial_img, mask, bdv.getBdvHandle().getViewerPanel() )\n",
    "\n",
    "print( initial_img.shape, [ initial_rai.dimension( d ) for d in range( initial_rai.numDimensions() ) ] )\n",
    "\n",
    "behaviors = util.Helpers.behaviours()\n",
    "behaviors.install( bdv.getBdvHandle().getTriggerbindings(), \"paint\" )\n",
    "behaviors.behaviour( painter, \"paint\", \"SPACE button1\" )\n",
    "bdv_exit_check( bdv.getBdvHandle().getViewerPanel() )\n"
   ]
  },
  {
   "cell_type": "code",
   "execution_count": 15,
   "metadata": {},
   "outputs": [
    {
     "name": "stdout",
     "output_type": "stream",
     "text": [
      "successfully downloaded file!\n",
      "Exited!\n"
     ]
    }
   ],
   "source": [
    "import h5py\n",
    "import os\n",
    "import pathlib\n",
    "import urllib.request\n",
    "import shutil\n",
    "\n",
    "# data from https://emdatasets.com/category/emd-examples/\n",
    "# Hexagonal Silicon Nitride\n",
    "url = 'https://cremi.org/static/data/sample_A%2B_20160601.hdf'\n",
    "path = pathlib.Path( '/tmp/sample_A+.h5' )\n",
    "if not path.is_file():\n",
    "    with urllib.request.urlopen( url ) as response, open( path, 'wb' ) as out_file:\n",
    "        shutil.copyfileobj( response, out_file )\n",
    "    print( 'successfully downloaded file!' )\n",
    "\n",
    "with h5py.File( path, 'r' ) as f:\n",
    "    data = f['volumes/raw'].value\n",
    "rai = imglyb.to_imglib( data )\n",
    "bdv = util.BdvFunctions.show( rai, 'rai', util.BdvOptions.options().sourceTransform( 4, 4, 40 ) )\n",
    "bdv_exit_check( bdv.getBdvHandle().getViewerPanel() )"
   ]
  }
 ],
 "metadata": {
  "kernelspec": {
   "display_name": "Python 3",
   "language": "python",
   "name": "python3"
  },
  "language_info": {
   "codemirror_mode": {
    "name": "ipython",
    "version": 3
   },
   "file_extension": ".py",
   "mimetype": "text/x-python",
   "name": "python",
   "nbconvert_exporter": "python",
   "pygments_lexer": "ipython3",
   "version": "3.6.1"
  }
 },
 "nbformat": 4,
 "nbformat_minor": 2
}
